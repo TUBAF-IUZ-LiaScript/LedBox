{
 "cells": [
  {
   "cell_type": "markdown",
   "id": "78b309d4-61a1-46e4-89b4-485f5c52e531",
   "metadata": {},
   "source": [
    "# Hello, Welcome in the development simulator for the LED-Box.\n",
    "\n",
    "Below you will find some code boxes. They will walk you trough writing Python code for the LED-Box."
   ]
  },
  {
   "cell_type": "markdown",
   "id": "94e6d9a3-05bd-4030-adb9-761352a372af",
   "metadata": {},
   "source": [
    "First we *import libraries*.\n",
    "\n",
    "`ulib` contains some libraries specific to the LED-Box. \n",
    "* `display` is the library that will actually control the led matrix.\n",
    "* `display_emu` overwrites the `display` library and provides an emulator, which we will use for prototyping.\n",
    "* `fancy` is just a implementation of the Hilbert algorithm. Im use it here as an example for what could be displayed on the screen.\n",
    "The `time` library allows us to wait.\n",
    "\n",
    "When the program is finished, you just need to replace `from ulib import display_emu as display` with `from ulib import display`\n",
    "\n",
    "Run this code block by pressing the `run` key in the top control bar"
   ]
  },
  {
   "cell_type": "code",
   "execution_count": 1,
   "id": "d8ac5394-0820-4ae0-9e24-3a08c7f4e766",
   "metadata": {},
   "outputs": [],
   "source": [
    "from ulib import display_emu as display\n",
    "from ulib import fancy\n",
    "import time"
   ]
  },
  {
   "cell_type": "markdown",
   "id": "2b1d0e59-79b0-4863-b5cf-c95302613bc1",
   "metadata": {},
   "source": [
    "Now we can try to interact with the screen. We can fill the whole display with a solid color like this. \n",
    "\n",
    "The color code is a 3-tupel (3 ordered numbers) and is saved in the form of (red, green, blue). The values are in the range of 0 to 255. \n",
    "\n",
    "You will see this color representation again later. \n",
    "\n",
    "You can try changing the color."
   ]
  },
  {
   "cell_type": "code",
   "execution_count": 2,
   "id": "e0552c78-2a3f-49bc-9db3-9415a215921e",
   "metadata": {},
   "outputs": [
    {
     "data": {
      "image/jpeg": "[encoded data removed]",
      "image/png": "[encoded data removed]",
      "text/plain": [
       "<PIL.Image.Image image mode=RGB size=256x256>"
      ]
     },
     "metadata": {},
     "output_type": "display_data"
    }
   ],
   "source": [
    "display.fill((0,0,255))"
   ]
  },
  {
   "cell_type": "markdown",
   "id": "c4461b1d-9c89-4023-8a2c-19d0f243b783",
   "metadata": {},
   "source": [
    "We can set an individual pixel by calling `display.set_xy(<coordinates>,<color>)`\n",
    "\n",
    "The coordinates are represented by a 2-tupel of the shape (y-position,x-position)\n",
    "\n",
    "Because updating the screen takes a short moment, this function does not automatically update the screen. \n",
    "\n",
    "This also allows you to set multiple pixels and update the display all at once, when you are done."
   ]
  },
  {
   "cell_type": "code",
   "execution_count": 5,
   "id": "448f95fb-ef6e-479d-bde2-94d9781f3a61",
   "metadata": {},
   "outputs": [
    {
     "data": {
      "image/jpeg": "[encoded data removed]",
      "image/png": "[encoded data removed]",
      "text/plain": [
       "<PIL.Image.Image image mode=RGB size=256x256>"
      ]
     },
     "metadata": {},
     "output_type": "display_data"
    }
   ],
   "source": [
    "for y in range(0, display.height):\n",
    "    for x in range(0, display.width):\n",
    "        display.set_xy((y,x),(x*1.6, y*1.6, x*y/10))\n",
    "        display.show()\n",
    "        time.sleep(0.01)\n",
    "for x in range(0, display.width):\n",
    "    for y in range(0, display.height):\n",
    "        display.set_xy((y,x),(0, 0, 0))\n",
    "    display.show()\n",
    "    time.sleep(0.16)"
   ]
  },
  {
   "cell_type": "markdown",
   "id": "db48259b-f1f8-43cf-a097-cf9dca39c91f",
   "metadata": {},
   "source": [
    "Let's try the hilbert curve now.\n",
    "\n",
    "`fancy.hilbert()` returns a list of coordinates in the order in which tey appear in the curve.\n",
    "\n",
    "Our display has 256 pixels, so we take the first 256 ertries of the curve.\n",
    "\n",
    "The `display.fade(<multipliers>)` allows us to fade the red, green and blue cannel independently by a multiplier. The multipliers are a 3-tupel of the shape (red-multiplier, green-multiplier, blue-multiplier) and have to be in the range of 0 to 1. Each color of each pixel is multiplied by its corresponding multiplier.\n",
    "\n",
    "You can see, that the blue channel is faded less than the red and green. \n",
    "\n",
    "Try changing the multipliers!"
   ]
  },
  {
   "cell_type": "code",
   "execution_count": 16,
   "id": "e9ba92e0-07d3-4104-bec8-ac51bb63a063",
   "metadata": {},
   "outputs": [
    {
     "data": {
      "image/jpeg": "[encoded data removed]",
      "image/png": "[encoded data removed]",
      "text/plain": [
       "<PIL.Image.Image image mode=RGB size=256x256>"
      ]
     },
     "metadata": {},
     "output_type": "display_data"
    }
   ],
   "source": [
    "points = fancy.hilbert(256)\n",
    "for point in points:\n",
    "    display.set_xy((point[0],point[1]),(255, 255, 255))\n",
    "    display.show()\n",
    "    time.sleep(0.05)\n",
    "    display.fade((0.9, 0.9, 0.95))\n"
   ]
  },
  {
   "cell_type": "markdown",
   "id": "3495dd2b-aced-4a23-a9a7-608e25c0a162",
   "metadata": {},
   "source": [
    "There is also a function, which allows you to set a whole range of pixels at once. \n",
    "\n",
    "`display.set_m(<pixel_dict>` expects a dictionary, which assigns every pixel a color value like this: `{<position_1>:<color_1>, <position_2>:<color_2>, ... }`\n",
    "\n",
    "The dictionary can be as long as you want. However the same pixel may not be included twice. \n",
    "\n",
    "Remember, that using this function does *not* overwrite pixels, that are not included in the dictionary."
   ]
  },
  {
   "cell_type": "code",
   "execution_count": 17,
   "id": "bac758c8-8b33-4083-919b-5a6b34950e15",
   "metadata": {},
   "outputs": [
    {
     "data": {
      "image/jpeg": "[encoded data removed]",
      "image/png": "[encoded data removed]",
      "text/plain": [
       "<PIL.Image.Image image mode=RGB size=256x256>"
      ]
     },
     "metadata": {},
     "output_type": "display_data"
    }
   ],
   "source": [
    "display.fill((100,5,5))\n",
    "r = (255,0,0)\n",
    "pixels = {(3,4):r,(3,5):r,(3,10):r,(3,11):r,\n",
    "          (4,3):r,(4,6):r,(4,9):r,(4,12):r,\n",
    "          (5,2):r,(5,7):r,(5,8):r,(5,13):r,\n",
    "          (6,2):r,(6,13):r,\n",
    "          (7,2):r,(7,13):r,\n",
    "          (8,3):r,(8,12):r,\n",
    "          (9,4):r,(9,11):r,\n",
    "          (10,5):r,(10,10):r,\n",
    "          (11,6):r,(11,9):r,\n",
    "          (12,7):r,(12,8):r}\n",
    "display.set_m(pixels)"
   ]
  },
  {
   "cell_type": "code",
   "execution_count": null,
   "id": "43433a29-90cb-4c33-96ff-ebc33179c57c",
   "metadata": {},
   "outputs": [],
   "source": []
  }
 ],
 "metadata": {
  "kernelspec": {
   "display_name": "Python 3 (ipykernel)",
   "language": "python",
   "name": "python3"
  },
  "language_info": {
   "codemirror_mode": {
    "name": "ipython",
    "version": 3
   },
   "file_extension": ".py",
   "mimetype": "text/x-python",
   "name": "python",
   "nbconvert_exporter": "python",
   "pygments_lexer": "ipython3",
   "version": "3.12.5"
  }
 },
 "nbformat": 4,
 "nbformat_minor": 5
}
